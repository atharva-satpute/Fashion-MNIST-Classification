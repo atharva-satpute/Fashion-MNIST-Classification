{
  "nbformat": 4,
  "nbformat_minor": 0,
  "metadata": {
    "colab": {
      "name": "Fashion_MNIST Classification.ipynb",
      "provenance": [],
      "collapsed_sections": []
    },
    "kernelspec": {
      "name": "python3",
      "display_name": "Python 3"
    }
  },
  "cells": [
    {
      "cell_type": "code",
      "metadata": {
        "id": "xWgTILM3drd0",
        "colab_type": "code",
        "colab": {}
      },
      "source": [
        "import tensorflow as tf\n",
        "import matplotlib.pyplot as plt\n",
        "%matplotlib inline\n",
        "DESIRED_ACCURACY = 0.998\n",
        "class myCallBack(tf.keras.callbacks.Callback):\n",
        "    def on_epoch_end(self,epoch,logs={}):\n",
        "        if logs.get('accuracy') >= DESIRED_ACCURACY:\n",
        "            print(\"\\nReached 99.8% accuracy so cancelling training!\")\n",
        "            self.model.stop_training = True"
      ],
      "execution_count": 0,
      "outputs": []
    },
    {
      "cell_type": "code",
      "metadata": {
        "id": "f7Futi7cHC-E",
        "colab_type": "code",
        "colab": {}
      },
      "source": [
        "# loading fashion mnist dataset from the keras library\n",
        "mnist = tf.keras.datasets.fashion_mnist\n",
        "(training_images,training_labels),(test_images,test_labels) = mnist.load_data()"
      ],
      "execution_count": 0,
      "outputs": []
    },
    {
      "cell_type": "code",
      "metadata": {
        "id": "3XMoeNEuejm7",
        "colab_type": "code",
        "colab": {}
      },
      "source": [
        "class_names = ['T-shirt/top', 'Trouser', 'Pullover', 'Dress', 'Coat', \n",
        "               'Sandal', 'Shirt', 'Sneaker', 'Bag', 'Ankle boot']"
      ],
      "execution_count": 0,
      "outputs": []
    },
    {
      "cell_type": "code",
      "metadata": {
        "id": "sswGG1xtHU7J",
        "colab_type": "code",
        "colab": {}
      },
      "source": [
        "# Reshaping the images\n",
        "training_images = training_images.reshape(60000,28,28,1)\n",
        "test_images = test_images.reshape(10000,28,28,1)\n",
        "\n",
        "training_labels=tf.keras.utils.to_categorical(training_labels)\n",
        "test_labels=tf.keras.utils.to_categorical(test_labels)\n",
        "# Normalization\n",
        "training_images = training_images / 255.\n",
        "test_images = test_images / 255."
      ],
      "execution_count": 0,
      "outputs": []
    },
    {
      "cell_type": "code",
      "metadata": {
        "id": "yJMvJ02-HSuj",
        "colab_type": "code",
        "outputId": "b7af839f-0ac1-4556-e3ff-f728f1063da6",
        "colab": {
          "base_uri": "https://localhost:8080/",
          "height": 265
        }
      },
      "source": [
        "image_index = 15\n",
        "#plt.title(\"Class: {}\".format(class_names[training_labels[image_index].squeeze()]))\n",
        "plt.imshow(training_images[image_index].squeeze())\n",
        "plt.show()"
      ],
      "execution_count": 0,
      "outputs": [
        {
          "output_type": "display_data",
          "data": {
            "image/png": "[encoded data removed]",
            "text/plain": [
              "<Figure size 432x288 with 1 Axes>"
            ]
          },
          "metadata": {
            "tags": [],
            "needs_background": "light"
          }
        }
      ]
    },
    {
      "cell_type": "code",
      "metadata": {
        "id": "kcSZYpoAHXD5",
        "colab_type": "code",
        "colab": {}
      },
      "source": [
        "callbacks = myCallBack()"
      ],
      "execution_count": 0,
      "outputs": []
    },
    {
      "cell_type": "markdown",
      "metadata": {
        "id": "uVcySoAeHglg",
        "colab_type": "text"
      },
      "source": [
        "TRAINING THE MODEL"
      ]
    },
    {
      "cell_type": "code",
      "metadata": {
        "id": "P39oIhSIHkez",
        "colab_type": "code",
        "colab": {}
      },
      "source": [
        "# Creating the model\n",
        "model = tf.keras.models.Sequential([\n",
        "    # Convolutional layer 1\n",
        "    tf.keras.layers.Conv2D(64,(3,3),activation=tf.nn.relu,input_shape=(28,28,1)),\n",
        "    # Pooling layer 1\n",
        "    tf.keras.layers.MaxPooling2D(2,2),\n",
        "    tf.keras.layers.Flatten(),\n",
        "    tf.keras.layers.Dense(128,activation = tf.nn.relu),       # 128 neurons in the dense hidden layer\n",
        "    tf.keras.layers.Dense(10, activation = tf.nn.softmax)     # 10 neurons in the output layer\n",
        "])"
      ],
      "execution_count": 0,
      "outputs": []
    },
    {
      "cell_type": "code",
      "metadata": {
        "id": "8KgBMljkHo5W",
        "colab_type": "code",
        "outputId": "45e5533d-0501-49c6-b1c4-3d392133ffd3",
        "colab": {
          "base_uri": "https://localhost:8080/",
          "height": 323
        }
      },
      "source": [
        "model.summary()"
      ],
      "execution_count": 0,
      "outputs": [
        {
          "output_type": "stream",
          "text": [
            "Model: \"sequential_9\"\n",
            "_________________________________________________________________\n",
            "Layer (type)                 Output Shape              Param #   \n",
            "=================================================================\n",
            "conv2d_14 (Conv2D)           (None, 26, 26, 64)        640       \n",
            "_________________________________________________________________\n",
            "max_pooling2d_14 (MaxPooling (None, 13, 13, 64)        0         \n",
            "_________________________________________________________________\n",
            "flatten_9 (Flatten)          (None, 10816)             0         \n",
            "_________________________________________________________________\n",
            "dense_18 (Dense)             (None, 128)               1384576   \n",
            "_________________________________________________________________\n",
            "dense_19 (Dense)             (None, 10)                1290      \n",
            "=================================================================\n",
            "Total params: 1,386,506\n",
            "Trainable params: 1,386,506\n",
            "Non-trainable params: 0\n",
            "_________________________________________________________________\n"
          ],
          "name": "stdout"
        }
      ]
    },
    {
      "cell_type": "code",
      "metadata": {
        "id": "4EqvHIOFHnkj",
        "colab_type": "code",
        "outputId": "b944ae79-a71d-4ae7-cef0-b18571903936",
        "colab": {
          "base_uri": "https://localhost:8080/",
          "height": 374
        }
      },
      "source": [
        "model.compile(optimizer='adam', loss= 'categorical_crossentropy', metrics=['accuracy'])\n",
        "model.fit(training_images,training_labels,epochs = 10,callbacks=[callbacks])"
      ],
      "execution_count": 0,
      "outputs": [
        {
          "output_type": "stream",
          "text": [
            "Epoch 1/10\n",
            "1875/1875 [==============================] - 55s 29ms/step - loss: 0.3713 - accuracy: 0.8677\n",
            "Epoch 2/10\n",
            "1875/1875 [==============================] - 55s 29ms/step - loss: 0.2517 - accuracy: 0.9091\n",
            "Epoch 3/10\n",
            "1875/1875 [==============================] - 55s 29ms/step - loss: 0.2049 - accuracy: 0.9246\n",
            "Epoch 4/10\n",
            "1875/1875 [==============================] - 55s 29ms/step - loss: 0.1703 - accuracy: 0.9373\n",
            "Epoch 5/10\n",
            "1875/1875 [==============================] - 53s 29ms/step - loss: 0.1449 - accuracy: 0.9451\n",
            "Epoch 6/10\n",
            "1875/1875 [==============================] - 54s 29ms/step - loss: 0.1208 - accuracy: 0.9555\n",
            "Epoch 7/10\n",
            "1875/1875 [==============================] - 54s 29ms/step - loss: 0.0987 - accuracy: 0.9642\n",
            "Epoch 8/10\n",
            "1875/1875 [==============================] - 53s 28ms/step - loss: 0.0830 - accuracy: 0.9693\n",
            "Epoch 9/10\n",
            "1875/1875 [==============================] - 53s 28ms/step - loss: 0.0676 - accuracy: 0.9751\n",
            "Epoch 10/10\n",
            "1875/1875 [==============================] - 57s 30ms/step - loss: 0.0562 - accuracy: 0.9794\n"
          ],
          "name": "stdout"
        },
        {
          "output_type": "execute_result",
          "data": {
            "text/plain": [
              "<tensorflow.python.keras.callbacks.History at 0x7fd079386e48>"
            ]
          },
          "metadata": {
            "tags": []
          },
          "execution_count": 137
        }
      ]
    },
    {
      "cell_type": "code",
      "metadata": {
        "id": "l83eqiy2HqUs",
        "colab_type": "code",
        "outputId": "32b9e03c-b72c-42ed-8cd0-709dc78d36ae",
        "colab": {
          "base_uri": "https://localhost:8080/",
          "height": 51
        }
      },
      "source": [
        "loss, accuracy =model.evaluate(test_images,test_labels,verbose=0)\n",
        "print('Accuracy: {}'.format(accuracy))\n",
        "print('Loss: {}'.format(loss))"
      ],
      "execution_count": 0,
      "outputs": [
        {
          "output_type": "stream",
          "text": [
            "Accuracy: 0.9156000018119812\n",
            "Loss: 0.34727171063423157\n"
          ],
          "name": "stdout"
        }
      ]
    }
  ]
}